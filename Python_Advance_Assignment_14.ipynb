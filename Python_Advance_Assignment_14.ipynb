{
  "cells": [
    {
      "cell_type": "markdown",
      "id": "86d685f5",
      "metadata": {
        "id": "86d685f5"
      },
      "source": [
        "Q1). Is an assignment operator like += only for show? Is it possible that it would lead to faster results at the runtime?\n",
        "\n",
        "Ans) \n",
        "+= is fatser and easy to write for us. runtime of a += 5 is slightly less than a = a + 5 but, the difference is really minor."
      ]
    },
    {
      "cell_type": "markdown",
      "id": "1f108256",
      "metadata": {
        "id": "1f108256"
      },
      "source": [
        "Q2). What is the smallest number of statements you'd have to write in most programming languages to replace the Python expression a, b = a + b, a?\n",
        "\n",
        "Ans)Two"
      ]
    },
    {
      "cell_type": "markdown",
      "id": "6682d9df",
      "metadata": {
        "id": "6682d9df"
      },
      "source": [
        "Q3). In Python, what is the most effective way to set a list of 100 integers to 0?  "
      ]
    },
    {
      "cell_type": "code",
      "execution_count": 1,
      "id": "f0285b2b",
      "metadata": {
        "colab": {
          "base_uri": "https://localhost:8080/"
        },
        "id": "f0285b2b",
        "outputId": "72b76fb6-0efd-4e14-f8e2-70b02a781fdb"
      },
      "outputs": [
        {
          "output_type": "stream",
          "name": "stdout",
          "text": [
            "[0, 0, 0, 0, 0, 0, 0, 0, 0, 0, 0, 0, 0, 0, 0, 0, 0, 0, 0, 0, 0, 0, 0, 0, 0, 0, 0, 0, 0, 0, 0, 0, 0, 0, 0, 0, 0, 0, 0, 0, 0, 0, 0, 0, 0, 0, 0, 0, 0, 0, 0, 0, 0, 0, 0, 0, 0, 0, 0, 0, 0, 0, 0, 0, 0, 0, 0, 0, 0, 0, 0, 0, 0, 0, 0, 0, 0, 0, 0, 0, 0, 0, 0, 0, 0, 0, 0, 0, 0, 0, 0, 0, 0, 0, 0, 0, 0, 0, 0, 0]\n"
          ]
        }
      ],
      "source": [
        "l = [0] * 100\n",
        "\n",
        "print(l)"
      ]
    },
    {
      "cell_type": "markdown",
      "id": "08ca2af5",
      "metadata": {
        "id": "08ca2af5"
      },
      "source": [
        "Q4). What is the most effective way to initialise a list of 99 integers that repeats the sequence 1, 2, 3? S If necessary, show step-by-step instructions on how to accomplish this."
      ]
    },
    {
      "cell_type": "code",
      "execution_count": 2,
      "id": "94d5cda4",
      "metadata": {
        "colab": {
          "base_uri": "https://localhost:8080/"
        },
        "id": "94d5cda4",
        "outputId": "05afd765-67f5-4af6-d903-982329503556"
      },
      "outputs": [
        {
          "output_type": "stream",
          "name": "stdout",
          "text": [
            "[1, 2, 3, 1, 2, 3, 1, 2, 3, 1, 2, 3, 1, 2, 3, 1, 2, 3, 1, 2, 3, 1, 2, 3, 1, 2, 3, 1, 2, 3, 1, 2, 3, 1, 2, 3, 1, 2, 3, 1, 2, 3, 1, 2, 3, 1, 2, 3, 1, 2, 3, 1, 2, 3, 1, 2, 3, 1, 2, 3, 1, 2, 3, 1, 2, 3, 1, 2, 3, 1, 2, 3, 1, 2, 3, 1, 2, 3, 1, 2, 3, 1, 2, 3, 1, 2, 3, 1, 2, 3, 1, 2, 3, 1, 2, 3, 1, 2, 3]\n"
          ]
        }
      ],
      "source": [
        "l1 = [1,2,3]\n",
        "\n",
        "count = int(101/len(l1)) \n",
        "\n",
        "l =  l1 * count \n",
        "print(l)"
      ]
    },
    {
      "cell_type": "markdown",
      "id": "f2a057c3",
      "metadata": {
        "id": "f2a057c3"
      },
      "source": [
        "Q5). If you're using IDLE to run a Python application, explain how to print a multidimensional list as efficiently?\n",
        "\n",
        "Ans) \n",
        "We can print multidimentional list by simply writing the name of the variable in a cell"
      ]
    },
    {
      "cell_type": "code",
      "execution_count": 3,
      "id": "4de59895",
      "metadata": {
        "colab": {
          "base_uri": "https://localhost:8080/"
        },
        "id": "4de59895",
        "outputId": "c9a9f269-a4ad-4d64-95d6-10ac4d2c0577"
      },
      "outputs": [
        {
          "output_type": "execute_result",
          "data": {
            "text/plain": [
              "[[1, 2, 3, 4], ['A', 'B'], [15, 20, 12, 18]]"
            ]
          },
          "metadata": {},
          "execution_count": 3
        }
      ],
      "source": [
        "l = [[1,2,3,4],['A','B'],[15,20,12,18]]\n",
        "\n",
        "l"
      ]
    },
    {
      "cell_type": "markdown",
      "id": "4eaeb39a",
      "metadata": {
        "id": "4eaeb39a"
      },
      "source": [
        "Q6). Is it possible to use list comprehension with a string? If so, how can you go about doing it?\n",
        "\n",
        "Ans) Yes, it is possible as string is an iterable object."
      ]
    },
    {
      "cell_type": "code",
      "execution_count": 4,
      "id": "cf7af0c2",
      "metadata": {
        "colab": {
          "base_uri": "https://localhost:8080/"
        },
        "id": "cf7af0c2",
        "outputId": "53648327-9b10-4731-c3a7-2404a25d9358"
      },
      "outputs": [
        {
          "output_type": "execute_result",
          "data": {
            "text/plain": [
              "['bb', 'hh', 'aa', 'vv', 'yy', 'aa']"
            ]
          },
          "metadata": {},
          "execution_count": 4
        }
      ],
      "source": [
        "a = 'bhavya'\n",
        "\n",
        "[i*2 for i in a]"
      ]
    },
    {
      "cell_type": "markdown",
      "id": "f396a931",
      "metadata": {
        "id": "f396a931"
      },
      "source": [
        "Q7). From the command line, how do you get support with a user-written Python programme? Is this possible from inside IDLE?\n",
        "\n",
        "Ans) \n",
        "Steps for command line:\n",
        "1. Open command prompt.\n",
        "2. Go to the directory containing python program file(.py)\n",
        "3. Type \"python file_name.py\", press enter to run the file.\n",
        "        \n",
        "Steps for python IDLE:\n",
        "1. Open python IDLE.\n",
        "2. Click on file>open>file_name.py\n",
        "3. Press F5 key to run the program."
      ]
    },
    {
      "cell_type": "markdown",
      "id": "270f32a7",
      "metadata": {
        "id": "270f32a7"
      },
      "source": [
        "Q8). Functions are said to be “first-class objects” in Python but not in most other languages, such as C++ or Java. What can you do in Python with a function (callable object) that you can't do in C or C++?\n",
        "\n",
        "Ans) In Python, functions are like any other object, such as an int or a list. That means that you can use functions as arguments to other functions, store functions as dictionary values, or return a function from another function. This leads to many powerful ways to use functions.\n"
      ]
    },
    {
      "cell_type": "markdown",
      "id": "9a1690c0",
      "metadata": {
        "id": "9a1690c0"
      },
      "source": [
        "Q9). How do you distinguish between a wrapper, a wrapped feature, and a decorator?\n",
        "\n",
        "Ans)A wrapper, a wrapped feature, and a decorator are all same. They can be thought of as functions which modify the functionality of another function. They help to make your code shorter and more \"Pythonic\"."
      ]
    },
    {
      "cell_type": "markdown",
      "id": "b943b864",
      "metadata": {
        "id": "b943b864"
      },
      "source": [
        "Q10). If a function is a generator function, what does it return?\n",
        "\n",
        "Ans)If a function is a generator function, it does not return any values, instead, it return an iterator object, which we can iterate through to get values."
      ]
    },
    {
      "cell_type": "markdown",
      "id": "b9901692",
      "metadata": {
        "id": "b9901692"
      },
      "source": [
        "Q11). What is the one improvement that must be made to a function in order for it to become a generator function in the Python language?\n",
        "\n",
        "Ans)We can use \"yield\" keyword instead of \"return\" to make function a generator."
      ]
    },
    {
      "cell_type": "code",
      "execution_count": 5,
      "id": "94446644",
      "metadata": {
        "colab": {
          "base_uri": "https://localhost:8080/"
        },
        "id": "94446644",
        "outputId": "358bf4c7-e9fa-4979-fe03-5029087b195c"
      },
      "outputs": [
        {
          "output_type": "stream",
          "name": "stdout",
          "text": [
            "0\n",
            "2\n",
            "4\n",
            "6\n",
            "8\n"
          ]
        }
      ],
      "source": [
        "def even_nos(n):\n",
        "    for i in range(n):\n",
        "        if i % 2 == 0:\n",
        "            yield i\n",
        "\n",
        "for i in even_nos(10):\n",
        "    print(i)"
      ]
    },
    {
      "cell_type": "markdown",
      "id": "08e41bee",
      "metadata": {
        "id": "08e41bee"
      },
      "source": [
        "Q12). Identify at least one benefit of generators.\n",
        "\n",
        "Ans) The main advantage here is that instead of having to compute an entire series of values up front, the generator computes one value and then suspends its activity awaiting the next instruction. This feature is known as state suspension.Generators are memory efficient."
      ]
    }
  ],
  "metadata": {
    "kernelspec": {
      "display_name": "Python 3",
      "language": "python",
      "name": "python3"
    },
    "language_info": {
      "codemirror_mode": {
        "name": "ipython",
        "version": 3
      },
      "file_extension": ".py",
      "mimetype": "text/x-python",
      "name": "python",
      "nbconvert_exporter": "python",
      "pygments_lexer": "ipython3",
      "version": "3.8.8"
    },
    "colab": {
      "name": "Python_Advance_Assignment_14.ipynb",
      "provenance": []
    }
  },
  "nbformat": 4,
  "nbformat_minor": 5
}